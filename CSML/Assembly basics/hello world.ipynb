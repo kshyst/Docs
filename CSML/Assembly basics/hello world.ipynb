{
 "cells": [
  {
   "cell_type": "markdown",
   "metadata": {},
   "source": [
    "\n",
    "```a\n",
    "section .data\n",
    "        text db \"hello world\",10\n",
    "section .text\n",
    "        global _start\n",
    "\n",
    "_start:\n",
    "        mov rax, 1\n",
    "        mov rdi, 1\n",
    "        mov rsi, text\n",
    "        mov rdx, 14\n",
    "        syscall\n",
    "\n",
    "        mov rax, 60\n",
    "        mov rdi, 0\n",
    "        syscall\n",
    "```\n",
    "\n",
    "text : name of the memory address\n",
    "db : \"define bytes\"\n",
    "\"hello world\",10 : defined bytes\n",
    "\n"
   ]
  }
 ],
 "metadata": {
  "language_info": {
   "name": "python"
  }
 },
 "nbformat": 4,
 "nbformat_minor": 2
}

{
 "cells": [
  {
   "cell_type": "markdown",
   "metadata": {},
   "source": [
    "<h1>Web Defenitions</h1>"
   ]
  },
  {
   "cell_type": "markdown",
   "metadata": {},
   "source": [
    "\n",
    "<p><b>UDP</b> : The User Datagram Protocol, or UDP, is a communication protocol used across the Internet for especially time-sensitive transmissions such as video playback or DNS lookups. It speeds up communications by not formally establishing a connection before data is transferred.</p><br>\n",
    "<p><b>TCP</b> : Transmission Control Protocol, is a communications standard for delivering data and messages through networks. TCP is a basic standard that defines the rules of the internet and is a common protocol used to deliver data in digital network communications</p><br>\n",
    "<p><b>Stateless Protocol</b> : Doesn't save any data from client like http</p><br>\n",
    "<p><b>Persistent and Non-Persistent Connections</b> : Non Persistent closes TCP connection after every request + respose , 10 objects = 10 tcp connections</p><br>\n",
    "<p><b>Objects in web</b> : any html , photo , css , video and ... that can be transfered between client and server</p><br>\n",
    "<p><b>round-trip time (RTT)</b> : the time it takes for a small packet to travel from\n",
    "client to server and then back to the client. The RTT includes packet-propagation delays, packetqueuing delays in intermediate routers and switches, and packet-processing delays. </p><br>\n",
    "<img src=\"img/RTT.png\"><br>\n",
    "<p><b>HTTP message format</b> : </p><br>\n",
    "<img src=\"img/Screenshot 2024-08-05 104002.png\"><br>\n",
    "<p><b>HTTP response header format</b> : </p><br>\n",
    "<img src=\"img/HTTPresponse.png\">\n",
    "<p><b></b> : </p><br>\n",
    "<p><b></b> : </p><br>"
   ]
  }
 ],
 "metadata": {
  "kernelspec": {
   "display_name": "Python 3",
   "language": "python",
   "name": "python3"
  },
  "language_info": {
   "name": "python",
   "version": "3.12.0"
  }
 },
 "nbformat": 4,
 "nbformat_minor": 2
}

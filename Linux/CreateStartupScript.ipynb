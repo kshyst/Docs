{
 "cells": [
  {
   "cell_type": "markdown",
   "metadata": {},
   "source": [
    "To create a startup script for Linux, you can follow these steps:\n",
    "\n",
    "1. Open a text editor and create a new file. Give it a meaningful name, such as `startup.sh`.\n",
    "\n",
    "2. Begin the script by adding the shebang line at the top. This line tells the system which interpreter to use to execute the script. For example, if you want to use Bash, add the following line:\n",
    "    ```bash\n",
    "    #!/bin/bash\n",
    "    ```\n",
    "\n",
    "3. Add the commands or actions you want to run at startup. These can include starting services, setting environment variables, or executing specific tasks. For example, if you want to start a web server, you can add the following line:\n",
    "    ```bash\n",
    "    systemctl start apache2\n",
    "    ```\n",
    "\n",
    "4. Save the file and exit the text editor.\n",
    "\n",
    "5. Make the script executable by running the following command in the terminal:\n",
    "    ```bash\n",
    "    chmod +x startup.sh\n",
    "    ```\n",
    "\n",
    "6. Move the script to the appropriate location where startup scripts are stored. This can vary depending on your Linux distribution. Common locations include `/etc/init.d/` or `/etc/rc.d/`. For example, to move the script to `/etc/init.d/`, run the following command with root privileges:\n",
    "    ```bash\n",
    "    sudo mv startup.sh /etc/init.d/\n",
    "    ```\n",
    "\n",
    "7. Finally, configure the script to run at startup. Again, the method for doing this can vary depending on your Linux distribution. One common approach is to use the `update-rc.d` command. For example, to configure the script to run at startup on Debian-based systems, run the following command with root privileges:\n",
    "    ```bash\n",
    "    sudo update-rc.d startup.sh defaults\n",
    "    ```\n",
    "    \n",
    "For Arch :\n",
    "    ```\n",
    "    sudo systemctl enable startup.sh\n",
    "    ```\n",
    "\n",
    "This command is used to enable the startup script on Arch Linux. It ensures that the script will be executed automatically each time the system starts up.\n",
    "\n",
    "\n",
    "To handle a command in the `startup.sh` script that requires `sudo` and a password, you can use the `sudo -S` option along with the `echo` command to provide the password programmatically. Here's an example:\n",
    "\n",
    "```bash\n",
    "echo \"your_password\" | sudo -S systemctl start apache2\n",
    "```\n",
    "\n",
    "Replace `\"your_password\"` with the actual password you want to use. This command will pass the password to `sudo` using the standard input (`stdin`) stream, allowing the command to be executed without requiring manual input of the password.\n",
    "\n",
    "Make sure to replace `\"your_password\"` with the actual password and test the script to ensure it behaves as expected.\n",
    "\n",
    "That's it! Your startup script is now set up and will be executed automatically each time your Linux system starts up. Make sure to test the script to ensure it behaves as expected."
   ]
  }
 ],
 "metadata": {
  "language_info": {
   "name": "python"
  }
 },
 "nbformat": 4,
 "nbformat_minor": 2
}

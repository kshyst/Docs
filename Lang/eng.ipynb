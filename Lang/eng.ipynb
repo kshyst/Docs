{
 "cells": [
  {
   "cell_type": "markdown",
   "metadata": {},
   "source": [
    "<p><b>contrasting :</b> to be different from something</p>\n",
    "<p><b>idiomatic  :</b> using, containing, or denoting expressions that are natural to a native speaker.</p>\n",
    "<p><b>sentinel :</b> a soldier or guard whose job is to stand and keep watch.\n",
    "\"soldiers stood sentinel with their muskets\"</p>\n",
    "<p><b>Buffering :</b> Buffering is the practice of preloading and storing a portion of a media file in the buffer or temporary memory of a device. This process enables video, audio, gaming, or other media files to be played smoothly and without jitter or stuttering.</p>\n",
    "<p><b>sophisticated :</b> having, revealing, or involving a great deal of worldly experience and knowledge of fashion and culture.</p>\n",
    "<p><b>convenience :</b> the state of being able to proceed something without difficulty</p>\n",
    "<p><b>explicit :</b> fully revealed or expressed without vagueness, implication, or ambiguity</p>\n",
    "<p><b>tailored :</b> fitted, and well cut. </p>\n",
    "<p><b>distinct :</b> recognizably different in nature from something else of a similar type.</p>\n",
    "<p><b>ambiguous :</b> open to more than one interpretation; not having one obvious meaning.</p>\n",
    "<p><b> :</b> </p>\n",
    "<p><b> :</b> </p>\n",
    "<p><b> :</b> </p>\n",
    "<p><b> :</b> </p>\n",
    "<p><b> :</b> </p>\n",
    "<p><b> :</b> </p>\n",
    "<p><b> :</b> </p>\n",
    "<p><b> :</b> </p>\n",
    "<p><b> :</b> </p>\n",
    "<p><b> :</b> </p>\n",
    "<p><b> :</b> </p>\n"
   ]
  }
 ],
 "metadata": {
  "language_info": {
   "name": "python"
  }
 },
 "nbformat": 4,
 "nbformat_minor": 2
}

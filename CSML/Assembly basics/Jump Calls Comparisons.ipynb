{
 "cells": [
  {
   "cell_type": "markdown",
   "metadata": {},
   "source": [
    "# Flags\n",
    "\n",
    "Holds data like registers but 1 bit that means its for true and false\n",
    "\n",
    "<img src=\"../Img/3/Screenshot 2024-11-01 223031.png\">"
   ]
  },
  {
   "cell_type": "markdown",
   "metadata": {},
   "source": [
    "# Pointers\n",
    "\n",
    "Holds data like registers and used to save memory adderesses.\n",
    "\n",
    "<img src=\"../Img/3/Screenshot 2024-11-01 223127.png\">"
   ]
  },
  {
   "cell_type": "markdown",
   "metadata": {},
   "source": [
    "# Control Flow\n",
    "\n",
    "The direction that the program runs is called the control flow . By default all codes run from top to bottom.\n",
    "\n",
    "The **rip** register holds the address of the next instruction and after each execution it's incremented by 1 to make the flow from top to bottom.\n",
    "\n",
    "<img src=\"../Img/3/Screenshot 2024-11-01 223707.png\">"
   ]
  },
  {
   "cell_type": "markdown",
   "metadata": {},
   "source": [
    "# Jumps\n",
    "\n",
    "Jumps can be used to jump to different parts of code based on labels. They are used to divert program flow.\n",
    "\n",
    "```asm\n",
    "\n",
    "_start:\n",
    "    jmp _start\n",
    "\n",
    "```"
   ]
  },
  {
   "cell_type": "markdown",
   "metadata": {},
   "source": [
    "# Comparisons\n",
    "\n",
    "Allows programs to be able to take different paths based on certain conditions.\n",
    "Comparisons general format is :\n",
    "\n",
    "```asm\n",
    "cmp <register>, <value>/<register>\n",
    "```\n",
    "\n",
    "After the comparisons are made , certain flags are set.\n",
    "\n",
    "<img src=\"../Img/3/Screenshot 2024-11-01 232247.png\">\n",
    "\n"
   ]
  },
  {
   "cell_type": "markdown",
   "metadata": {},
   "source": [
    "# Conditional Jumps\n",
    "\n",
    "After a comparison is made , a conditional jump can be made.\n",
    "Conditional jumps are based on the status of the flags.\n",
    "Conditional jumps in code are written just like unconditional jumps, however **jmp** is replaced by the symbol for the condtitional jump.\n",
    "\n",
    "Example: \n",
    "\n",
    "This code will jump to the address of label **_doThis** if and only if the value in the rax register equals 23.\n",
    "\n",
    "```asm\n",
    "cmp rax, 23\n",
    "je _doThis\n",
    "```\n",
    "\n",
    "<img src=\"../Img/3/Screenshot 2024-11-01 232848.png\">"
   ]
  },
  {
   "cell_type": "markdown",
   "metadata": {},
   "source": [
    "# Registers as pointers\n",
    "\n",
    "The default register can be treated as pointers.\n",
    "\n",
    "To treat a register as a pointer , surround the register name with  square brackets , such as , **rax** becomes **[rax]**\n",
    "\n",
    "```asm\n",
    "mov rax , [rbx]\n",
    "```\n",
    "\n",
    "Loads where rbx register is pointing to into rax register."
   ]
  },
  {
   "cell_type": "markdown",
   "metadata": {},
   "source": [
    "# Calls\n",
    "\n",
    "Calls and jumps are essentially the same.\n",
    "\n",
    "However , when **call** is used , the original position the call was made can be returned to using **ret**.\n",
    "\n",
    "Subroutine example :\n",
    "\n",
    "<img src=\"../Img/3/Screenshot 2024-11-02 000647.png\">"
   ]
  },
  {
   "cell_type": "markdown",
   "metadata": {},
   "source": []
  }
 ],
 "metadata": {
  "language_info": {
   "name": "python"
  }
 },
 "nbformat": 4,
 "nbformat_minor": 2
}

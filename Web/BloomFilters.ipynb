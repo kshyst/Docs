{
 "cells": [
  {
   "cell_type": "markdown",
   "metadata": {},
   "source": [
    "<h3>Bloom Filters</h3>\n",
    "\n",
    "When memory efficiency is critical, a Bloom Filter offers an attractive solution. A Bloom Filter is a space-efficient probabilistic data structure that allows for quick checks on whether an element (like a username) is part of a set. The trade-off is that it may occasionally produce false positives — indicating that a username exists when it does not.\n",
    "\n",
    "Simplified Explanation of Bloom Filters\n",
    "\n",
    "A Bloom Filter is a smart, space-efficient tool used to check if an item is part of a set. It’s especially useful when you want to avoid storing large amounts of data. The catch? It might occasionally tell you an item is in the set when it’s not (false positive), but it will never miss an item that is actually in the set (no false negatives).\n",
    "\n",
    "How It Works:\n",
    "\n",
    "A Bloom Filter uses a bit array and several hash functions.\n",
    "When you add an item (like a username), the filter uses the hash functions to flip certain bits in the array to 1.\n",
    "To check if an item exists, it runs the item through the same hash functions. If all the corresponding bits are 1, the item might be in the set. If any bit is 0, the item is definitely not in the set.\n",
    "Why Use Bloom Filters?\n",
    "\n",
    "Efficiency: They save memory and quickly check if something is probably in the set.\n",
    "Applications: They’re great for reducing unnecessary database queries or preventing repeated checks against a web server.\n",
    "In short, Bloom Filters are a powerful tool when you need quick, memory-efficient membership testing, as long as you can handle the occasional false positive.\n",
    "\n",
    "Here’s how you can implement a Bloom Filter in Go using the bloom package:"
   ]
  },
  {
   "cell_type": "markdown",
   "metadata": {},
   "source": [
    "```go\n",
    "package main\n",
    "\n",
    "import (\n",
    " \"fmt\"\n",
    "// https://pkg.go.dev/github.com/bits-and-blooms/bloom/v3#section-readme\n",
    " \"github.com/bits-and-blooms/bloom/v3\"\n",
    ")\n",
    "\n",
    "func main() {\n",
    " // Initialize a Bloom Filter\n",
    " filter := bloom.New(20*1000*1000, 5) // Capacity: 20 million, 5 hash functions\n",
    "\n",
    " // Add a username to the Bloom Filter\n",
    " filter.AddString(\"john_doe\")\n",
    "\n",
    " // Check if a username exists\n",
    " exists := filter.TestString(\"john_doe\")\n",
    " fmt.Printf(\"Username 'john_doe' exists? %v\\n\", exists)\n",
    "\n",
    " // Check for a non-existent username\n",
    " exists = filter.TestString(\"jane_doe\")\n",
    " fmt.Printf(\"Username 'jane_doe' exists? %v\\n\", exists)\n",
    "}\n",
    "```"
   ]
  },
  {
   "cell_type": "markdown",
   "metadata": {},
   "source": [
    "The diagram below visually explains how a Bloom Filter works:\n",
    "\n",
    "<img src=\"img/1_EJlioDFD9yu9ygcBBvMc0A.webp\">"
   ]
  },
  {
   "cell_type": "markdown",
   "metadata": {},
   "source": [
    "Part (a): Inserting a Sequence:\n",
    "\n",
    "<ul>\n",
    "    <li>Sequence “ACCGTAG”: Imagine we want to check if this sequence is in our set.</li>\n",
    "    <li>k-mers: The sequence is broken down into smaller parts called “k-mers” (like chunks or fragments). For example, “ACCG”, “CCGT”, “CGTA”, and “GTAG”.</li>\n",
    "    <li>Hashing k-mers: Each of these k-mers is passed through a set of hash functions. These hash functions take the k-mers and map them to specific positions in a bit array.</li>\n",
    "    <li>Setting Bits: For each k-mer, the corresponding bits in the bit array are set to 1. The bit array is initially all zeros, but as we add k-mers, specific bits are turned on (set to 1).</li>\n",
    "</ul>\n",
    "\n",
    "<br>\n",
    "\n",
    "Part (b): Querying a Sequence\n",
    "\n",
    "<ul>\n",
    "    <li>Query “CGTAT”: Now, let’s say we want to check if “CGTAT” is in our set.</li>\n",
    "    <li>k-mers: Like before, this sequence is broken down into k-mers, such as “CGTA” and “GTAT”.</li>\n",
    "    <li>Checking Bits: These k-mers are hashed, and we check the corresponding bits in the bit array:</li>\n",
    "    <li>If all bits are set to 1 (like with “CGTA”), it suggests that the sequence might be in the set.</li>\n",
    "    <li>If even one bit is 0 (like with “GTAT”), it means the sequence is definitely not in the set.</li>\n",
    "</ul>"
   ]
  }
 ],
 "metadata": {
  "language_info": {
   "name": "python"
  }
 },
 "nbformat": 4,
 "nbformat_minor": 2
}

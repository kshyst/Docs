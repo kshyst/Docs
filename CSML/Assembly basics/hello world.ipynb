{
 "cells": [
  {
   "cell_type": "markdown",
   "metadata": {},
   "source": [
    "\n",
    "```a\n",
    "section .data\n",
    "        text db \"hello world\",10\n",
    "section .text\n",
    "        global _start\n",
    "\n",
    "_start:\n",
    "        mov rax, 1\n",
    "        mov rdi, 1\n",
    "        mov rsi, text\n",
    "        mov rdx, 14\n",
    "        syscall\n",
    "\n",
    "        mov rax, 60\n",
    "        mov rdi, 0\n",
    "        syscall\n",
    "```\n",
    "\n",
    "<pre>\n",
    "text : name of the memory address\n",
    "db : \"define bytes\"\n",
    "\"hello world\",10 : defined bytes\n",
    "</pre>\n",
    "\n",
    "<h3>\n",
    "Registers\n",
    "</h3>\n",
    "\n",
    "registers are a part of the processor that temporarily holds the memory\n",
    "\n",
    "in x86_64 it holds 64 bits\n",
    "\n",
    "<img src=\"../Img/Screenshot 2024-10-30 050207.png\">"
   ]
  },
  {
   "cell_type": "markdown",
   "metadata": {},
   "source": [
    "<h3>System Call</h3>\n",
    "\n",
    "A system call or syscall is when a program requests a service from the kernel.\n",
    "\n",
    "System calls will differ by operating system because differenet operating systems use different kernels.\n",
    "\n",
    "All syscalls have an ID associated with them\n",
    "\n",
    "syscalls also take arguments ,meaning , a list of inputs.\n",
    "\n",
    "<img src=\"../Img/Screenshot 2024-10-30 050734.png\">\n",
    "<img src=\"../Img/Screenshot 2024-10-30 051053.png\">\n",
    "<img src=\"../Img/Screenshot 2024-10-30 051137.png\">\n",
    "<img src=\"../Img/Screenshot 2024-10-30 051240.png\">\n",
    "\n",
    "\n",
    "In Assembly mov means move . if we say <code> mov rax, 1 </code> it means move the value 1 to register."
   ]
  },
  {
   "cell_type": "markdown",
   "metadata": {},
   "source": [
    "<h3>Sections</h3>\n",
    "\n",
    "All x86_64  assembly files have three sections : .data , .bss , .text\n",
    "\n",
    "The data section is where all stat is defined before compilation\n",
    "\n",
    "The bss section is where data is allocated for future use (for user input usually)\n",
    "\n",
    "The text section is where the actual code goes"
   ]
  },
  {
   "cell_type": "markdown",
   "metadata": {},
   "source": [
    "<h3>Labels</h3>\n",
    "a label is used to label a part of code\n",
    "\n",
    "Upon compilation the compiler will calculate the location in which the label will sit in memory.\n",
    "\n",
    "Any time the name of the label is used afterwards, that name is replaced by the location in memory by compiler.\n",
    "\n",
    "The _start label is exucuted first and if the linker cannot find the _start it will throw error and shit.\n",
    "\n",
    "The word global is used when you want the linker to be able to kinow the address of a label . The object file generated will contain a link to every label declared global.\n",
    "\n",
    "In this case we have to declare _start as global"
   ]
  }
 ],
 "metadata": {
  "language_info": {
   "name": "python"
  }
 },
 "nbformat": 4,
 "nbformat_minor": 2
}

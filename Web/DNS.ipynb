{
 "cells": [
  {
   "cell_type": "markdown",
   "metadata": {},
   "source": [
    "<h1>What is DNS?</h1>\n",
    "\n",
    "<br>\n",
    "\n",
    "The Domain Name System is the phonebook of the internet that maps IP (Internet Protocol) addresses to domain names"
   ]
  },
  {
   "cell_type": "markdown",
   "metadata": {},
   "source": [
    "<h3>4 DNS servers involved in loading a webpage</h3>\n",
    "\n",
    "<ul>\n",
    "    <li>DNS recursor : The recursor can be thought of as a librarian who is asked to go find a particular book somewhere in a library. The DNS recursor is a server designed to receive queries from client machines through applications such as web browsers. Typically the recursor is then responsible for making additional requests in order to satisfy the client’s DNS query. Normally the ISP provides this.</li>\n",
    "    <br>\n",
    "    <li>Root nameserver : The root server is the first step in translating (resolving) human readable host names into IP addresses. It can be thought of like an index in a library that points to different racks of books - typically it serves as a reference to other more specific locations.</li>\n",
    "    <br>\n",
    "    <li>TLD nameserver : The top level domain server (TLD) can be thought of as a specific rack of books in a library. This nameserver is the next step in the search for a specific IP address, and it hosts the last portion of a hostname (In example.com, the TLD server is “com”).</li>\n",
    "    <br>\n",
    "    <li>Authoritative nameserver : This final nameserver can be thought of as a dictionary on a rack of books, in which a specific name can be translated into its definition. The authoritative nameserver is the last stop in the nameserver query. If the authoritative name server has access to the requested record, it will return the IP address for the requested hostname back to the DNS Recursor (the librarian) that made the initial request.</li>\n",
    "</ul>\n",
    "<br><br>\n",
    "<img src=\"img/dns_record_request_sequence_recursive_resolver.png\">"
   ]
  }
 ],
 "metadata": {
  "language_info": {
   "name": "python"
  }
 },
 "nbformat": 4,
 "nbformat_minor": 2
}

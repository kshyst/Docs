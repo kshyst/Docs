{
 "cells": [
  {
   "cell_type": "markdown",
   "metadata": {},
   "source": [
    "<h3>UEFI boot vs Legacy boot</h3>\n",
    "<br>\n",
    "UEFI (Unified Extensible Firmware Interface) is a newer standard that replaces the legacy BIOS. UEFI offers more features and benefits, such as faster boot times, better security, larger disk support, and graphical user interface. Legacy BIOS is the old mode that uses a 16-bit code and a limited number of options."
   ]
  },
  {
   "cell_type": "markdown",
   "metadata": {},
   "source": [
    "<h1>Connect to internet using iwctl</h1>\n",
    "\n",
    "Check network interfaces : \n",
    "```bash\n",
    "Ip link\n",
    "```\n",
    "\n",
    "Enter iwctl command line :\n",
    "```bash\n",
    "iwctl\n",
    "```\n",
    "\n",
    "See device list :\n",
    "```bash\n",
    "device list\n",
    "```\n",
    "\n",
    "If the network device is off :\n",
    "```bash\n",
    "device name set-property Powered on\n",
    "```\n",
    "\n",
    "See all available networks :\n",
    "```bash\n",
    "station name scan\n",
    "station name get-networks\n",
    "```\n",
    "\n",
    "Connect to network :\n",
    "```bash\n",
    "station name connect SSID\n",
    "```\n",
    "\n",
    "To exit:\n",
    "```bash\n",
    "exit\n",
    "```"
   ]
  },
  {
   "cell_type": "markdown",
   "metadata": {},
   "source": [
    "<h1>Create Partitions Using fdisk</h1>\n",
    "\n",
    "To list available drives and partitions :\n",
    "```bash\n",
    "lsblk\n",
    "fdisk -l\n",
    "```\n",
    "\n",
    "<h4>MBR vs GPT</h4>\n",
    "\n",
    "Master Boot Record (MBR) disks use the standard BIOS partition table. GUID partition table (GPT) disks use the Unified Extensible Firmware Interface (UEFI). One advantage of GPT disks is that you can have more than four partitions on each disk. GPT is also required for disks larger than 2 terabytes (TB).\n",
    "\n",
    "Enter fdisk command line and create temp table in memory:\n",
    "```bash\n",
    "fdisk /dev/sda\n",
    "```\n",
    "\n",
    "<b>Warning: If you create a new partition table on a disk with data on it, it will erase all the data on the disk. Make sure this is what you want to do.</b>\n",
    "\n",
    "Press g for GPT table or press o for MBR table.\n",
    "\n",
    "Press n to create new partition:\n",
    "<ul>\n",
    "    <li>select partition number</li>\n",
    "    <li>select first sector size as the start point of partition (better to select default value)</li>\n",
    "    <li>write +xG for x gigabyte size for parition</li>\n",
    "</ul>\n",
    "\n",
    "\n",
    "Create 3 partitions for boot , root and swap.\n",
    "Then press w to save changes and create the partition table."
   ]
  },
  {
   "cell_type": "markdown",
   "metadata": {},
   "source": [
    "<h1>Format Partitions</h1>\n",
    "\n",
    "For root partition :\n",
    "```bash\n",
    "mkfs.ext4 /dev/root_partition\n",
    "```\n",
    "\n",
    "For swap partition :\n",
    "```bash\n",
    "mkswap /dev/swap_partition\n",
    "```\n",
    "\n",
    "For boot (EFI) partition :\n",
    "```bash\n",
    "mkfs.fat -F 32 /dev/efi_system_partition\n",
    "```\n"
   ]
  },
  {
   "cell_type": "markdown",
   "metadata": {},
   "source": [
    "<h1>Mount Partitions</h1>\n",
    "\n",
    "```bash\n",
    "mount /dev/root_partition /mnt\n",
    "mount --mkdir /dev/efi_system_partition /mnt/boot\n",
    "swapon /dev/swap_partition\n",
    "```"
   ]
  },
  {
   "cell_type": "markdown",
   "metadata": {},
   "source": [
    "<h1>Configure Mirrors</h1>\n",
    "\n",
    "```bash\n",
    "nano /etc/pacman.d/mirrorlist\n",
    "```\n",
    "\n",
    "Add this to top of the list for Iran server :\n",
    "\n",
    "```bash\n",
    "https://mirror.bardia.tech/$repo/os/$arch\n",
    "```\n",
    "\n",
    "Note: No software or configuration (except for /etc/pacman.d/mirrorlist) gets carried over from the live environment to the installed system."
   ]
  },
  {
   "cell_type": "markdown",
   "metadata": {},
   "source": [
    "<h1>Fix PGP keyrings</h1>\n",
    "\n",
    "```bash\n",
    "sudo pacman-key --init\n",
    "sudo pacman-key --populate archlinux endeavouros\n",
    "sudo pacman-key --refresh-keys\n",
    "sudo pacman -Syy\n",
    "sudo pacman -Syu\n",
    "```"
   ]
  },
  {
   "cell_type": "markdown",
   "metadata": {},
   "source": [
    "<h1>Download And Install Packages</h1>\n",
    "\n",
    "```bash\n",
    "pacstrap -i /mnt base base-devel linux linux-firmware git sudo neofetch htop intel-ucode nano vim bluez bluez-utils networkmanager\n",
    "```\n",
    "\n",
    "You can add any other necessary packages here."
   ]
  },
  {
   "cell_type": "markdown",
   "metadata": {},
   "source": [
    "<h1>Generate File System Table</h1>\n",
    "\n",
    "```bash\n",
    "genfstab -U /mnt >> /mnt/etc/fstab\n",
    "```"
   ]
  },
  {
   "cell_type": "markdown",
   "metadata": {},
   "source": [
    "<h1>Enter Arch linux</h1>\n",
    "\n",
    "```bash\n",
    "arch-chroot /mnt\n",
    "```\n",
    "\n",
    "Set SU password :\n",
    "\n",
    "```bash\n",
    "passwd password\n",
    "```\n",
    "\n",
    "Create New User :\n",
    "```bash\n",
    "useradd -m -g users -G wheel,storage,power,video,audio -s /bin/bash kshyst\n",
    "```\n",
    "\n",
    "Set user password:\n",
    "```bash\n",
    "passwd kshyst\n",
    "```\n",
    "\n",
    "Give sudo access to all wheel users : \n",
    "```bash\n",
    "EDITOR=nano visudo\n",
    "```\n",
    "\n",
    "Then Uncomment the part thats says uncomment to allow memebers of group wheel to execute any command\n",
    "\n",
    "Login to the user:\n",
    "```bash\n",
    "su - kshyst\n",
    "```\n",
    "\n",
    "To logout :\n",
    "```bash\n",
    "exit\n",
    "```\n",
    "\n"
   ]
  },
  {
   "cell_type": "markdown",
   "metadata": {},
   "source": [
    "<h1>Configure Time</h1>\n",
    "\n",
    "Type this to get the list of timezones:\n",
    "\n",
    "```bash\n",
    "ln -sf /usr/share/zoneinfo/\n",
    "```\n",
    "\n",
    "```bash\n",
    "hwclock --systohc\n",
    "```"
   ]
  },
  {
   "cell_type": "markdown",
   "metadata": {},
   "source": [
    "<h1>Setting the System Language</h1>\n",
    "\n",
    "Edit /etc/locale.gen and uncomment en_US.UTF-8 UTF-8 and other needed UTF-8 locales. Generate the locales by running:\n",
    "\n",
    "```bash\n",
    "locale-gen\n",
    "```\n",
    "\n",
    "Set the default language as English:\n",
    "```bash\n",
    "nano /etc/locale.conf\n",
    "```\n",
    "\n",
    "And type LANG=en_US.UTF-8"
   ]
  },
  {
   "cell_type": "markdown",
   "metadata": {},
   "source": [
    "<h1>Set Hostname</h1>\n",
    "\n",
    "```bash\n",
    "nano /etc/hostname\n",
    "```\n",
    "And type your hostname\n",
    "\n",
    "Then do this:\n",
    "```bash\n",
    "nano /etc/hosts\n",
    "```\n",
    "\n",
    "And type this:\n",
    "\n",
    "<pre>\n",
    "127.0.0.1       localhost\n",
    "::1             localhost\n",
    "127.0.1.1       archlinux.localdomain       hostname\n",
    "</pre>"
   ]
  },
  {
   "cell_type": "markdown",
   "metadata": {},
   "source": [
    "<h1>Install GRUB bootloader</h1>\n",
    "\n",
    "Install some packages\n",
    "\n",
    "```bash\n",
    "pacman -S grub efibootmgr dosfstools mtools\n",
    "```\n",
    "\n",
    "Install GRUB bootloader into /boot\n",
    "\n",
    "```bash\n",
    "grub-install --target=x86_64-efi --efi-directory=/boot --bootloader-id=GRUB\n",
    "```\n",
    "\n",
    "Generate a grub configuration file:\n",
    "\n",
    "```bash\n",
    "grub-mkconfig -o /boot/grub/grub.cfg\n",
    "```\n",
    "\n"
   ]
  },
  {
   "cell_type": "markdown",
   "metadata": {},
   "source": [
    "<h1>Enable Services</h1>\n",
    "\n",
    "```bash\n",
    "systemctl enable bluetooth\n",
    "systemctl enable NetwrokManager\n",
    "```"
   ]
  },
  {
   "cell_type": "markdown",
   "metadata": {},
   "source": [
    "<h1>Exit Live Boot And Unmount All Partitions</h1>\n",
    "\n",
    "```bash\n",
    "umount -lR /mnt\n",
    "```"
   ]
  }
 ],
 "metadata": {
  "language_info": {
   "name": "python"
  }
 },
 "nbformat": 4,
 "nbformat_minor": 2
}

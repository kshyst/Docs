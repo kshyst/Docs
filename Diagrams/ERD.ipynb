{
 "cells": [
  {
   "cell_type": "markdown",
   "metadata": {},
   "source": [
    "<h1>ER Diagram</h1>\n",
    "\n",
    "ERD stands for entity relationship diagram. People also call these types of diagrams ER diagrams and Entity Relationship Models. An ERD visualizes the relationships between entities like people, things, or concepts in a database. An ERD will also often visualize the attributes of these entities."
   ]
  },
  {
   "cell_type": "markdown",
   "metadata": {},
   "source": [
    "By defining the entities, their attributes, and showing the relationships between them, an ER diagram can illustrate the <b>logical structure of databases</b>. This is useful for engineers hoping to either document a database as it exists or sketch out a design of a new database."
   ]
  },
  {
   "cell_type": "markdown",
   "metadata": {},
   "source": [
    "<h3>Types of Entity Relationship Diagrams</h3>\n",
    "\n",
    "ER diagrams will differ on how they express cardinality. They will also differ in how they display entities and their attributes and whether or not they show relationships or attributes as separate symbols.\n",
    "\n"
   ]
  },
  {
   "cell_type": "markdown",
   "metadata": {},
   "source": [
    "<img src=\"img/information-engineering-style.jpg\">\n",
    "<img src=\"img/chen-style.jpg\">\n",
    "<img src=\"img/bachman-style.jpg\">"
   ]
  },
  {
   "cell_type": "markdown",
   "metadata": {},
   "source": [
    "<b>\n",
    "<b>\n",
    "<b>\n",
    "<b>\n",
    "<h3>ERD Models</h3>\n",
    "\n",
    "Entity Relationship Models can also vary based on the level of abstraction visualized. There are usually three models people refer to based on the level of detail you want to show: conceptual ERD, logical ERD, and physical ERD.\n",
    "\n",
    "<ul>\n",
    "    <li>\n",
    "        Conceptual ERD or data model: This model has the most abstraction and least amount of detail, as such it's appropriate for large projects that need a higher level view used by business analysts. A typical conceptual ERD will contain entities and relationships, but offer no details on specific database columns or cardinalities. It's a general, high-level view of database design.\n",
    "    </li>\n",
    "    <br>\n",
    "    <li>\n",
    "        Logical ERD or data model: This model adds more detail to the conceptual model by defining additional entities that are operational and transactional.\n",
    "    </li>\n",
    "    <br>\n",
    "    <li>\n",
    "        Physical ERD or data model: This model serves as the actual design or blueprint of the database with lots of technical details including defining cardinality and showing primary and foreign keys of entities instead of just their abstract semantic names. For this type of ERD, attributes will often be listed to represent the columns of the real database table.\n",
    "    </li>\n",
    "</ul>\n",
    "\n",
    "<br>\n",
    "<img src=\"img/erd-models-differences.png\">"
   ]
  }
 ],
 "metadata": {
  "language_info": {
   "name": "python"
  }
 },
 "nbformat": 4,
 "nbformat_minor": 2
}

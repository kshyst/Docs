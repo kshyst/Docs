{
 "cells": [
  {
   "cell_type": "markdown",
   "metadata": {},
   "source": [
    "<h1>Difference Between Stateless and Stateful Protocol\n",
    "</h1>\n",
    "\n",
    "<h3>What is the Stateless Protocol?\n",
    "</h3>\n",
    "\n",
    "Stateless Protocols are the type of network protocols in which the Client sends a request to the server and the server responds back according to the current state. It does not require the server to retain session information or status about each communicating partner for multiple requests. \n",
    "\n",
    "HTTP (Hypertext Transfer Protocol), UDP (User Datagram Protocol), and DNS (Domain Name System) are examples of Stateless Protocols. \n",
    "\n",
    "<h4>Salient Features of Stateless Protocols\n",
    "</h4>\n",
    "\n",
    "<ul>\n",
    "    <li>Stateless Protocol simplifies the design of the Server.</li>\n",
    "    <li>The stateless protocol requires fewer resources because the system does not need to keep track of the multiple link communications and the session details.</li>\n",
    "    <li>In Stateless Protocol each information packet travels on its own without reference to any other packet.</li>\n",
    "    <li>Each communication in Stateless Protocol is discrete and unrelated to those that precedes or follow.</li>\n",
    "</ul>\n",
    "\n",
    "<h3>What is Stateful Protocol?</h3>\n",
    "\n",
    "In Stateful Protocol If client send a request to the server then it expects some kind of response, if it does not get any response then it resend the request. FTP (File Transfer Protocol), TCP, and Telnet are the example of Stateful Protocol. \n",
    "\n",
    "<h4>Salient Features of Stateful Protocol</h4>\n",
    "\n",
    "<ul>\n",
    "    <li>Stateful Protocols provide better performance to the client by keeping track of the connection information.</li>\n",
    "    <li>Stateful Application require Backing storage.</li>\n",
    "    <li>Stateful request are always dependent on the server-side state.</li>\n",
    "    <li>TCP session follow stateful protocol because both systems maintain information about the session itself during its life.</li>\n",
    "</ul>\n",
    "\n",
    "<img src=\"img/Screenshot 2024-10-18 170217.png\">"
   ]
  }
 ],
 "metadata": {
  "language_info": {
   "name": "python"
  }
 },
 "nbformat": 4,
 "nbformat_minor": 2
}

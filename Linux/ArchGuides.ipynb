{
 "cells": [
  {
   "cell_type": "markdown",
   "metadata": {},
   "source": [
    "<h1>Connect To Network</h1>\n",
    "\n",
    "List devices:\n",
    "```bash\n",
    "nmcli dev status\n",
    "```\n",
    "\n",
    "Turn on wifi:\n",
    "```bash\n",
    "nmcli radio wifi on\n",
    "```\n",
    "\n",
    "List of available wifi's :\n",
    "```bash\n",
    "nmcli dev wifi list\n",
    "```\n",
    "\n",
    "Connect to wifi :\n",
    "```bash\n",
    "sudo nmcli dev wifi connect wifiname password \"pass\"\n",
    "```"
   ]
  },
  {
   "cell_type": "markdown",
   "metadata": {},
   "source": [
    "<h1>Install Display Manager</h1>\n",
    "\n",
    "```bash\n",
    "sudo pacman -S xorg sddm plasma-meta dolphin konsole kwrite firefox cargo clang cmake make gcc\n",
    "```\n",
    "\n",
    "Enable display manager:\n",
    "\n",
    "```bash\n",
    "sudo systemctl enable sddm\n",
    "sudo systemctl start sddm\n",
    "```\n",
    "\n",
    "Fix store backend:\n",
    "```bash\n",
    "sudo pacman -Sy flatpak\n",
    "```"
   ]
  }
 ],
 "metadata": {
  "language_info": {
   "name": "python"
  }
 },
 "nbformat": 4,
 "nbformat_minor": 2
}

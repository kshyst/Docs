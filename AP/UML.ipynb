{
 "cells": [
  {
   "cell_type": "markdown",
   "metadata": {},
   "source": [
    "- An association represents a relationship between two objects, but neither is the \"owner\" of the other. They each exist on their own and can be related eventually\n",
    "- An aggregation is a specialized association in which both objects maintain their independence, but there is an owner of one over the other.\n",
    "- A composition is a specialized aggregation, with the difference that the child's class life depends on the parent. If the parent (owner) is deleted the child is deleted as well, but the reverse is not true.\n",
    "\n",
    "<img src=\"img/Association, Composition UML.JPG\">\n",
    "\n"
   ]
  }
 ],
 "metadata": {
  "language_info": {
   "name": "python"
  }
 },
 "nbformat": 4,
 "nbformat_minor": 2
}
